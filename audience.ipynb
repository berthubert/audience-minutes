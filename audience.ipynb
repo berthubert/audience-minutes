{
 "cells": [
  {
   "cell_type": "code",
   "execution_count": null,
   "metadata": {},
   "outputs": [],
   "source": [
    "%matplotlib notebook\n",
    "%precision 2\n",
    "import matplotlib\n",
    "import matplotlib.pyplot as plt\n",
    "plt.rcParams['figure.figsize'] = [9.5, 6]\n",
    "import pandas"
   ]
  },
  {
   "cell_type": "code",
   "execution_count": null,
   "metadata": {},
   "outputs": [],
   "source": [
    "percs=pandas.read_csv(\"percs.csv\")\n",
    "busy=percs.groupby([\"url\"]).count().sort_values([\"count\"], ascending=False).head(10)\n",
    "busy"
   ]
  },
  {
   "cell_type": "code",
   "execution_count": null,
   "metadata": {},
   "outputs": [],
   "source": [
    "# given 10% sampling and once a minute measurements, one sample is 10 minutes\n",
    "# so this gives a table with reading hours\n",
    "busy.perc*10/60"
   ]
  },
  {
   "cell_type": "code",
   "execution_count": null,
   "metadata": {
    "scrolled": false
   },
   "outputs": [],
   "source": [
    "# you can raise or lower the number of bins depending on how much data you have\n",
    "for url in busy.index:\n",
    "    plt.figure()\n",
    "    plt.hist(percs[(percs.url==url)].perc, bins=10, density=True)\n",
    "    plt.grid()\n",
    "    plt.ylabel(\"Density\")\n",
    "    plt.xlabel(\"Location as percentage of page length\")\n",
    "    plt.title(\"Sampled density of readership for\\n\"+url)\n",
    "\n",
    "    print(url)"
   ]
  }
 ],
 "metadata": {
  "kernelspec": {
   "display_name": "Python 3",
   "language": "python",
   "name": "python3"
  },
  "language_info": {
   "codemirror_mode": {
    "name": "ipython",
    "version": 3
   },
   "file_extension": ".py",
   "mimetype": "text/x-python",
   "name": "python",
   "nbconvert_exporter": "python",
   "pygments_lexer": "ipython3",
   "version": "3.8.5"
  }
 },
 "nbformat": 4,
 "nbformat_minor": 4
}
